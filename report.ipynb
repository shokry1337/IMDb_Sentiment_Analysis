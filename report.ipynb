{
 "cells": [
  {
   "cell_type": "markdown",
   "metadata": {
    "id": "o08LrXLBvVJh"
   },
   "source": [
    "#### Importing required packages"
   ]
  },
  {
   "cell_type": "code",
   "execution_count": 2,
   "metadata": {
    "id": "X43MWJcOUUE8"
   },
   "outputs": [],
   "source": [
    "# Import necessary libraries\n",
    "import os, wget, tarfile\n",
    "from g4f.client import Client\n",
    "# Import necessary libraries\n",
    "import pandas as pd\n",
    "from IPython.display import clear_output"
   ]
  },
  {
   "cell_type": "markdown",
   "metadata": {
    "id": "5ybRfXpYgWkF"
   },
   "source": [
    "#### Fetching the dataset"
   ]
  },
  {
   "cell_type": "code",
   "execution_count": 3,
   "metadata": {
    "colab": {
     "base_uri": "https://localhost:8080/"
    },
    "id": "BYJO-W6BAIzE",
    "outputId": "b7c6f0db-54c8-4a2e-b372-062fd598b48c"
   },
   "outputs": [
    {
     "name": "stdout",
     "output_type": "stream",
     "text": [
      "Dataset already exists.\n"
     ]
    }
   ],
   "source": [
    "base_dir = './aclImdb'\n",
    "sub_dirs =[\n",
    "    'test/pos',\n",
    "    'test/neg'\n",
    "]\n",
    "\n",
    "# Check if the dataset directory exists\n",
    "if os.path.exists(base_dir):\n",
    "    print(f\"Dataset already exists.\")\n",
    "else:\n",
    "    try:\n",
    "# Download the dataset using wget\n",
    "        wget.download('https://ai.stanford.edu/~amaas/data/sentiment/aclImdb_v1.tar.gz')\n",
    "        print(f\"Dataset fetched.\")\n",
    "# Extract the downloaded tar.gz file\n",
    "        with tarfile.open('aclImdb_v1.tar.gz') as t:\n",
    "            t.extractall()\n",
    "        print(f\"Dataset extracted.\")\n",
    "    except Exception as e:\n",
    "        print(f\"Dataset download failed.\")"
   ]
  },
  {
   "cell_type": "code",
   "execution_count": 4,
   "metadata": {},
   "outputs": [],
   "source": [
    "# Define a prompt structure for the LLM\n",
    "def prompt(review):\n",
    "    return [\n",
    "        {'role': 'system', 'content': 'You are trained to analyze and detect the sentiment of given text.'},\n",
    "        {'role': 'user', 'content': f'\"{review}\", is this review positive, or negaitve?, Answer using one word only, either \"Poisitve\", or \"Negative\".'}\n",
    "    ]"
   ]
  },
  {
   "cell_type": "code",
   "execution_count": 5,
   "metadata": {},
   "outputs": [],
   "source": [
    "# Format the model response to extract sentiment\n",
    "def format(response):\n",
    "    r = response.choices[0].message.content.lower()\n",
    "    if r.find('pos') != -1: return 'Positive'\n",
    "    elif r.find('neg') != -1: return 'Negative'\n",
    "    else: return 'Uncertain'"
   ]
  },
  {
   "cell_type": "code",
   "execution_count": 6,
   "metadata": {},
   "outputs": [],
   "source": [
    "# Instantiate the g4f client to interact with the model\n",
    "client = Client()"
   ]
  },
  {
   "cell_type": "markdown",
   "metadata": {
    "id": "S_mJ7jsynHmP"
   },
   "source": [
    "#### Llama-3.1-8B"
   ]
  },
  {
   "cell_type": "code",
   "execution_count": 7,
   "metadata": {
    "id": "wOJCzUAqXxGb"
   },
   "outputs": [],
   "source": [
    "# Define a function to call the LLaMA 3.1 8B model with a review\n",
    "def llama318b(review):\n",
    "# Use the LLM to generate a sentiment response\n",
    "    response = client.chat.completions.create(\n",
    "        model='llama-3.1-8b',\n",
    "        messages=prompt(review),\n",
    "        max_tokens=8,\n",
    "        temperature=0.5\n",
    "    )\n",
    "    return format(response)"
   ]
  },
  {
   "cell_type": "code",
   "execution_count": 8,
   "metadata": {
    "colab": {
     "base_uri": "https://localhost:8080/",
     "height": 35
    },
    "id": "BnhjBPHmcYPG",
    "outputId": "7562ca7a-bf37-4175-d902-e6494cec5bce"
   },
   "outputs": [
    {
     "data": {
      "text/plain": [
       "'Positive'"
      ]
     },
     "execution_count": 8,
     "metadata": {},
     "output_type": "execute_result"
    }
   ],
   "source": [
    "llama318b('It was good!')"
   ]
  },
  {
   "cell_type": "markdown",
   "metadata": {
    "id": "StAE6FyayUaM"
   },
   "source": [
    "#### GPT-4o-Mini"
   ]
  },
  {
   "cell_type": "code",
   "execution_count": 9,
   "metadata": {
    "id": "6ovGSHgm0FJa"
   },
   "outputs": [],
   "source": [
    "def gpt4oMini(review):\n",
    "# Use the LLM to generate a sentiment response\n",
    "    response = client.chat.completions.create(\n",
    "        model='gpt-4o-mini',\n",
    "        messages=prompt(review),\n",
    "        max_tokens=8,\n",
    "        temperature=0.5\n",
    "    )\n",
    "    return format(response)"
   ]
  },
  {
   "cell_type": "code",
   "execution_count": 10,
   "metadata": {
    "colab": {
     "base_uri": "https://localhost:8080/",
     "height": 35
    },
    "id": "MPKcK6RY1UUg",
    "outputId": "924fb80d-7224-41fe-97f0-717afd5434c7"
   },
   "outputs": [
    {
     "data": {
      "text/plain": [
       "'Positive'"
      ]
     },
     "execution_count": 10,
     "metadata": {},
     "output_type": "execute_result"
    }
   ],
   "source": [
    "gpt4oMini('It was good!')"
   ]
  },
  {
   "cell_type": "markdown",
   "metadata": {
    "id": "0fU6Byi9AGiU"
   },
   "source": [
    "#### Loading the dataset"
   ]
  },
  {
   "cell_type": "code",
   "execution_count": 11,
   "metadata": {
    "colab": {
     "base_uri": "https://localhost:8080/"
    },
    "id": "wZzf3FReRsZS",
    "outputId": "47a433be-e48e-46cf-8bb4-fc423e2143cd"
   },
   "outputs": [
    {
     "name": "stdout",
     "output_type": "stream",
     "text": [
      "Dataframe loaded successfully.\n"
     ]
    }
   ],
   "source": [
    "df_path = 'dataframe.csv'\n",
    "ids = [0, 0]\n",
    "# Check if the dataset directory exists\n",
    "if os.path.exists(df_path):\n",
    "    df = pd.read_csv(df_path)\n",
    "    ids[0] = df[df['Label'] == 'Positive']['ID'].max() + 1\n",
    "    ids[1] = df[df['Label'] == 'Negative']['ID'].max() + 1\n",
    "    print(\"Dataframe loaded successfully.\")\n",
    "else:\n",
    "    df = pd.DataFrame(columns=['ID', 'Rating', 'Review', 'Label', 'Llama-3.1-8B', 'GPT-4o-Mini'])\n",
    "    print(\"Dataframe created successfully.\")"
   ]
  },
  {
   "cell_type": "code",
   "execution_count": 12,
   "metadata": {
    "id": "H1fYmAiFFXOJ"
   },
   "outputs": [],
   "source": [
    "def get_reviews():\n",
    "    reviews = []\n",
    "    for i, sub_dir in enumerate(sub_dirs):\n",
    "        dir = f'{base_dir}/{sub_dir}'\n",
    "        for file in os.listdir(dir):\n",
    "            if file.startswith(f'{ids[i]}_'):\n",
    "                with open(f'{dir}/{file}', 'r') as f:\n",
    "                    reviews.append([int(ids[i]), int(file.split('_')[1][:-4]), 'Positive' if i == 0 else 'Negative', f.read()])\n",
    "                break\n",
    "    return reviews"
   ]
  },
  {
   "cell_type": "code",
   "execution_count": 20,
   "metadata": {
    "colab": {
     "base_uri": "https://localhost:8080/"
    },
    "collapsed": true,
    "id": "1dGMq-GXeS2y",
    "outputId": "71f623cf-9dc4-4502-a50f-73e7d277cb2f"
   },
   "outputs": [
    {
     "name": "stdout",
     "output_type": "stream",
     "text": [
      "The dataframe now has 1006 reviews.\n"
     ]
    },
    {
     "data": {
      "text/html": [
       "<div>\n",
       "<style scoped>\n",
       "    .dataframe tbody tr th:only-of-type {\n",
       "        vertical-align: middle;\n",
       "    }\n",
       "\n",
       "    .dataframe tbody tr th {\n",
       "        vertical-align: top;\n",
       "    }\n",
       "\n",
       "    .dataframe thead th {\n",
       "        text-align: right;\n",
       "    }\n",
       "</style>\n",
       "<table border=\"1\" class=\"dataframe\">\n",
       "  <thead>\n",
       "    <tr style=\"text-align: right;\">\n",
       "      <th></th>\n",
       "      <th>ID</th>\n",
       "      <th>Rating</th>\n",
       "      <th>Review</th>\n",
       "      <th>Label</th>\n",
       "      <th>Llama-3.1-8B</th>\n",
       "      <th>GPT-4o-Mini</th>\n",
       "    </tr>\n",
       "  </thead>\n",
       "  <tbody>\n",
       "    <tr>\n",
       "      <th>1004</th>\n",
       "      <td>502</td>\n",
       "      <td>7</td>\n",
       "      <td>Interesting twist on the Vampire yarn - fast, ...</td>\n",
       "      <td>Positive</td>\n",
       "      <td>Positive</td>\n",
       "      <td>Positive</td>\n",
       "    </tr>\n",
       "    <tr>\n",
       "      <th>1005</th>\n",
       "      <td>502</td>\n",
       "      <td>4</td>\n",
       "      <td>The film, Heaven's Gate, was a good view, alth...</td>\n",
       "      <td>Negative</td>\n",
       "      <td>Positive</td>\n",
       "      <td>Negative</td>\n",
       "    </tr>\n",
       "  </tbody>\n",
       "</table>\n",
       "</div>"
      ],
      "text/plain": [
       "       ID  Rating                                             Review  \\\n",
       "1004  502       7  Interesting twist on the Vampire yarn - fast, ...   \n",
       "1005  502       4  The film, Heaven's Gate, was a good view, alth...   \n",
       "\n",
       "         Label Llama-3.1-8B GPT-4o-Mini  \n",
       "1004  Positive     Positive    Positive  \n",
       "1005  Negative     Positive    Negative  "
      ]
     },
     "execution_count": 20,
     "metadata": {},
     "output_type": "execute_result"
    }
   ],
   "source": [
    "n = 2\n",
    "for _ in range(int(n/2)):\n",
    "    for i, review in enumerate(get_reviews()):\n",
    "        row = pd.DataFrame({\n",
    "            'ID': review[0],\n",
    "            'Rating': review[1],\n",
    "            'Review': review[3],\n",
    "            'Label': review[2],\n",
    "            'Llama-3.1-8B': llama318b(review),\n",
    "            'GPT-4o-Mini': gpt4oMini(review)\n",
    "        }, index=[0])\n",
    "        df = pd.concat([df, row], ignore_index=True)\n",
    "        ids[i] += 1\n",
    "        \n",
    "        clear_output()   \n",
    "        print(f'The dataframe now has {df.shape[0]} reviews.')\n",
    "\n",
    "df.tail(n)"
   ]
  },
  {
   "cell_type": "code",
   "execution_count": 21,
   "metadata": {
    "id": "ZG-HXAJW3EbN"
   },
   "outputs": [],
   "source": [
    "df = df.filter(['ID', 'Rating', 'Review', 'Label', 'Llama-3.1-8B', 'GPT-4o-Mini'])\n",
    "df.to_csv('dataframe.csv')"
   ]
  },
  {
   "cell_type": "markdown",
   "metadata": {
    "id": "ajgMzW-oLkVH"
   },
   "source": [
    "#### Evaluation"
   ]
  },
  {
   "cell_type": "code",
   "execution_count": 22,
   "metadata": {
    "colab": {
     "base_uri": "https://localhost:8080/",
     "height": 125
    },
    "id": "dvxLlPZ9RVyU",
    "outputId": "4c096cc7-a9b1-4746-fdb2-e2a86249b94e"
   },
   "outputs": [
    {
     "data": {
      "text/html": [
       "<div>\n",
       "<style scoped>\n",
       "    .dataframe tbody tr th:only-of-type {\n",
       "        vertical-align: middle;\n",
       "    }\n",
       "\n",
       "    .dataframe tbody tr th {\n",
       "        vertical-align: top;\n",
       "    }\n",
       "\n",
       "    .dataframe thead th {\n",
       "        text-align: right;\n",
       "    }\n",
       "</style>\n",
       "<table border=\"1\" class=\"dataframe\">\n",
       "  <thead>\n",
       "    <tr style=\"text-align: right;\">\n",
       "      <th></th>\n",
       "      <th>Accuracy</th>\n",
       "      <th>Precision</th>\n",
       "      <th>Recall</th>\n",
       "      <th>F1-score</th>\n",
       "    </tr>\n",
       "  </thead>\n",
       "  <tbody>\n",
       "    <tr>\n",
       "      <th>Llama-3.1-8B</th>\n",
       "      <td>0.9314</td>\n",
       "      <td>0.9801</td>\n",
       "      <td>0.8931</td>\n",
       "      <td>0.9346</td>\n",
       "    </tr>\n",
       "    <tr>\n",
       "      <th>GPT-4o-Mini</th>\n",
       "      <td>0.9364</td>\n",
       "      <td>0.9722</td>\n",
       "      <td>0.9072</td>\n",
       "      <td>0.9386</td>\n",
       "    </tr>\n",
       "  </tbody>\n",
       "</table>\n",
       "</div>"
      ],
      "text/plain": [
       "             Accuracy Precision  Recall F1-score\n",
       "Llama-3.1-8B   0.9314    0.9801  0.8931   0.9346\n",
       "GPT-4o-Mini    0.9364    0.9722  0.9072   0.9386"
      ]
     },
     "execution_count": 22,
     "metadata": {},
     "output_type": "execute_result"
    }
   ],
   "source": [
    "TP = [0, 0] # True positives\n",
    "FP = [0, 0] # False positives\n",
    "TN = [0, 0] # True negatives\n",
    "FN = [0, 0] # False negatives\n",
    "models = ['Llama-3.1-8B', 'GPT-4o-Mini']\n",
    "results = pd.DataFrame(columns=['Accuracy', 'Precision', 'Recall', 'F1-score'])\n",
    "\n",
    "for i, row in df.iterrows():\n",
    "    if row['Label'] == 'Positive':\n",
    "        if row['Label'] == row['Llama-3.1-8B']:\n",
    "            TP[0] += 1\n",
    "        else:\n",
    "            FP[0] += 1\n",
    "        if row['Label'] == row['GPT-4o-Mini']:\n",
    "            TP[1] += 1\n",
    "        else:\n",
    "            FP[1] += 1\n",
    "    else:\n",
    "       if row['Label'] == row['Llama-3.1-8B']:\n",
    "            TN[0] += 1\n",
    "       else:\n",
    "            FN[0] += 1\n",
    "       if row['Label'] == row['GPT-4o-Mini']:\n",
    "            TN[1] += 1\n",
    "       else:\n",
    "            FN[1] += 1\n",
    "\n",
    "for i in range(2):\n",
    "    accuracy = (TP[i] + TN[i]) / (TP[i] + FP[i] + TN[i] + FN[i])\n",
    "    precision = TP[i] / (TP[i] + FP[i])\n",
    "    recall = TP[i] / (TP[i] + FN[i])\n",
    "    f1_score = (2 * precision * recall) / (precision + recall)\n",
    "\n",
    "    row = pd.DataFrame({'Accuracy': f'{(accuracy):.4f}',\n",
    "                        'Precision': f'{(precision):.4f}',\n",
    "                        'Recall': f'{(recall):.4f}',\n",
    "                        'F1-score': f'{(f1_score):.4f}'\n",
    "                       }, index=[models[i]])\n",
    "    results = pd.concat([results, row])\n",
    "\n",
    "results"
   ]
  }
 ],
 "metadata": {
  "colab": {
   "provenance": []
  },
  "kernelspec": {
   "display_name": "Python 3",
   "name": "python3"
  },
  "language_info": {
   "codemirror_mode": {
    "name": "ipython",
    "version": 3
   },
   "file_extension": ".py",
   "mimetype": "text/x-python",
   "name": "python",
   "nbconvert_exporter": "python",
   "pygments_lexer": "ipython3",
   "version": "3.11.1"
  }
 },
 "nbformat": 4,
 "nbformat_minor": 0
}
